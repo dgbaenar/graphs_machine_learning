{
 "cells": [
  {
   "cell_type": "markdown",
   "id": "11cf9f97-284d-4ead-b766-c0f4bdb91273",
   "metadata": {},
   "source": [
    "# 1.1 - Introduction"
   ]
  },
  {
   "cell_type": "markdown",
   "id": "be0d20b5-1553-49cd-80f2-0fc168bc6513",
   "metadata": {},
   "source": [
    "* Youtube video playlist: https://www.youtube.com/watch?v=JAB_plj2rbA&list=PLoROMvodv4rPLKxIpqhjhPgdQy7imNkDn&index=1&t=522s\n",
    "* Course schedule: http://web.stanford.edu/class/cs224w/\n",
    "* Latest news on Stanford’s upcoming professional programs in AI: http://learn.stanford.edu/AI.html"
   ]
  },
  {
   "cell_type": "markdown",
   "id": "f1c970f9-c5d2-4487-8873-4d63bd0cf8dc",
   "metadata": {},
   "source": [
    "## Books"
   ]
  },
  {
   "cell_type": "markdown",
   "id": "5d9e32ec-590f-4381-84be-b04ec48b2629",
   "metadata": {},
   "source": [
    "* Graph Representation Learning by William L. Hamilton - https://www.cs.mcgill.ca/~wlh/grl_book/\n",
    "* Networks, Crowds, and Markets: Reasoning About a Highly Connected World by David Easley and Jon Kleinberg - http://www.cs.cornell.edu/home/kleinber/networks-book/"
   ]
  },
  {
   "cell_type": "markdown",
   "id": "877cff68-229b-41bf-a20b-cb913f2ee13b",
   "metadata": {},
   "source": [
    "<img src=\"../images/graph_ml_learning.png\" width=600, height=300/>"
   ]
  },
  {
   "cell_type": "markdown",
   "id": "be82b3b8-2030-467e-95b6-c13b6f99fe24",
   "metadata": {},
   "source": [
    "* Representation learning: automatically extracting or learning features in the graph.\n",
    "    * Map nodes to d- dimensional embeddings such that similar nodes in the network are embedded close together."
   ]
  },
  {
   "cell_type": "markdown",
   "id": "b0f9e357-b90e-4d48-82be-97e0737d9de4",
   "metadata": {},
   "source": [
    "<img src=\"../images/graph_representation_learning.png\" width=600, height=300/>"
   ]
  },
  {
   "cell_type": "markdown",
   "id": "1b81c346-cda7-4ace-b3ba-bb6cce15ddaf",
   "metadata": {},
   "source": [
    "* Traditional methods: graphlets, graph kernels\n",
    "* Methods for node embeddings: DeppWalk, Node2Vec\n",
    "* Graph neural networks: GCN, GraphSAGE, GAT, Theory of GNNs\n",
    "* Knowledge graphs and reasoning: TransE, BetaE\n",
    "* Deep generative models for graphs."
   ]
  },
  {
   "cell_type": "markdown",
   "id": "df32a854-88f6-4bd4-b55a-a07bae7006da",
   "metadata": {},
   "source": [
    "# 1.2 - Applications of Graph ML"
   ]
  },
  {
   "cell_type": "markdown",
   "id": "99e0aa96-a9f3-4511-b06e-dd5017757d00",
   "metadata": {},
   "source": [
    "<img src=\"../images/classic_graph_tasks.png\" width=600, height=300/>"
   ]
  },
  {
   "cell_type": "markdown",
   "id": "ce6cc499-1dd4-43ee-8fe4-8011a75bf337",
   "metadata": {},
   "source": [
    "<img src=\"../images/recommender_systems.png\" width=600, height=300/>"
   ]
  },
  {
   "cell_type": "markdown",
   "id": "0dc03487-a471-49ad-9a04-9e61029a7867",
   "metadata": {},
   "source": [
    "<img src=\"../images/road_nwetwork.png\" width=600, height=300/>"
   ]
  },
  {
   "cell_type": "markdown",
   "id": "455fa291-cf22-46a7-8b01-2656f98c09e4",
   "metadata": {},
   "source": [
    "# 1.3 - Choice of Graph Representation​"
   ]
  },
  {
   "cell_type": "code",
   "execution_count": null,
   "id": "90fca5fb-66e3-46cb-8fe5-dd6464e2115f",
   "metadata": {},
   "outputs": [],
   "source": []
  }
 ],
 "metadata": {
  "kernelspec": {
   "display_name": "Python 3",
   "language": "python",
   "name": "python3"
  },
  "language_info": {
   "codemirror_mode": {
    "name": "ipython",
    "version": 3
   },
   "file_extension": ".py",
   "mimetype": "text/x-python",
   "name": "python",
   "nbconvert_exporter": "python",
   "pygments_lexer": "ipython3",
   "version": "3.7.9"
  }
 },
 "nbformat": 4,
 "nbformat_minor": 5
}
