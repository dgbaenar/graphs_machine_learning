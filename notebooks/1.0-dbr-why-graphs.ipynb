{
 "cells": [
  {
   "cell_type": "markdown",
   "id": "11cf9f97-284d-4ead-b766-c0f4bdb91273",
   "metadata": {},
   "source": [
    "# 1.1 - Introduction"
   ]
  },
  {
   "cell_type": "markdown",
   "id": "be0d20b5-1553-49cd-80f2-0fc168bc6513",
   "metadata": {},
   "source": [
    "* Youtube video playlist: https://www.youtube.com/watch?v=JAB_plj2rbA&list=PLoROMvodv4rPLKxIpqhjhPgdQy7imNkDn&index=1&t=522s\n",
    "* Course schedule: http://web.stanford.edu/class/cs224w/\n",
    "* Latest news on Stanford’s upcoming professional programs in AI: http://learn.stanford.edu/AI.html\n",
    "* Course grading and project: http://web.stanford.edu/class/cs224w/info.html\n",
    "    * CS 224W Project: Developing Models on Open Graph Benchmark: https://docs.google.com/document/d/e/2PACX-1vTznByNItTcEtnJoTLPt2S9C1YETTYeYOGdGVaarxrjAOjR8mHSRe7N1kTF71I5dObg7pTLnmb8-R64/pub"
   ]
  },
  {
   "cell_type": "markdown",
   "id": "f1c970f9-c5d2-4487-8873-4d63bd0cf8dc",
   "metadata": {},
   "source": [
    "## Books"
   ]
  },
  {
   "cell_type": "markdown",
   "id": "5d9e32ec-590f-4381-84be-b04ec48b2629",
   "metadata": {},
   "source": [
    "* Graph Representation Learning by William L. Hamilton - https://www.cs.mcgill.ca/~wlh/grl_book/\n",
    "* Networks, Crowds, and Markets: Reasoning About a Highly Connected World by David Easley and Jon Kleinberg - http://www.cs.cornell.edu/home/kleinber/networks-book/"
   ]
  },
  {
   "cell_type": "markdown",
   "id": "877cff68-229b-41bf-a20b-cb913f2ee13b",
   "metadata": {},
   "source": [
    "<img src=\"../images/graph_ml_learning.png\" width=600, height=300/>"
   ]
  },
  {
   "cell_type": "markdown",
   "id": "be82b3b8-2030-467e-95b6-c13b6f99fe24",
   "metadata": {},
   "source": [
    "* Representation learning: automatically extracting or learning features in the graph.\n",
    "    * Map nodes to d- dimensional embeddings such that similar nodes in the network are embedded close together."
   ]
  },
  {
   "cell_type": "markdown",
   "id": "b0f9e357-b90e-4d48-82be-97e0737d9de4",
   "metadata": {},
   "source": [
    "<img src=\"../images/graph_representation_learning.png\" width=600, height=300/>"
   ]
  },
  {
   "cell_type": "markdown",
   "id": "1b81c346-cda7-4ace-b3ba-bb6cce15ddaf",
   "metadata": {},
   "source": [
    "* Traditional methods: graphlets, graph kernels\n",
    "* Methods for node embeddings: DeppWalk, Node2Vec\n",
    "* Graph neural networks: GCN, GraphSAGE, GAT, Theory of GNNs\n",
    "* Knowledge graphs and reasoning: TransE, BetaE\n",
    "* Deep generative models for graphs."
   ]
  },
  {
   "cell_type": "markdown",
   "id": "df32a854-88f6-4bd4-b55a-a07bae7006da",
   "metadata": {},
   "source": [
    "# 1.2 - Applications of Graph ML"
   ]
  },
  {
   "cell_type": "markdown",
   "id": "99e0aa96-a9f3-4511-b06e-dd5017757d00",
   "metadata": {},
   "source": [
    "<img src=\"../images/classic_graph_tasks.png\" width=600, height=300/>"
   ]
  },
  {
   "cell_type": "markdown",
   "id": "ce6cc499-1dd4-43ee-8fe4-8011a75bf337",
   "metadata": {},
   "source": [
    "<img src=\"../images/recommender_systems.png\" width=600, height=300/>"
   ]
  },
  {
   "cell_type": "markdown",
   "id": "0dc03487-a471-49ad-9a04-9e61029a7867",
   "metadata": {},
   "source": [
    "<img src=\"../images/road_nwetwork.png\" width=600, height=300/>"
   ]
  },
  {
   "cell_type": "markdown",
   "id": "455fa291-cf22-46a7-8b01-2656f98c09e4",
   "metadata": {},
   "source": [
    "# 1.3 - Choice of Graph Representation​"
   ]
  },
  {
   "cell_type": "markdown",
   "id": "53ca2b02-c257-4cfc-85ee-77f732d97a16",
   "metadata": {},
   "source": [
    "<img src=\"../images/components_of_network.png\" width=600, height=300/>"
   ]
  },
  {
   "cell_type": "markdown",
   "id": "90e35163-fbbc-45ef-b959-eb67386fed48",
   "metadata": {},
   "source": [
    "###  Directed vs Undirected graphs"
   ]
  },
  {
   "cell_type": "markdown",
   "id": "461a3957-8cad-43de-a2d5-20bd337c5395",
   "metadata": {},
   "source": [
    "<img src=\"../images/directed_undirected.png\" width=600, height=300/>"
   ]
  },
  {
   "cell_type": "markdown",
   "id": "5f82f30a-74a4-483d-a3e0-9405f49d54c7",
   "metadata": {},
   "source": [
    "* Node degree: \n",
    "    * Undirected:\n",
    "        * Avg degree: # of edges adjacent to node i\n",
    "    * Directed:\n",
    "        * in-degree\n",
    "        * out-degree"
   ]
  },
  {
   "cell_type": "markdown",
   "id": "5cc5b484-466f-4b67-8d2b-c30be6f30cbe",
   "metadata": {},
   "source": [
    "<img src=\"../images/node_degree.png\" width=600, height=300/>"
   ]
  },
  {
   "cell_type": "markdown",
   "id": "11768732-6966-4944-b739-e94d3f519bf2",
   "metadata": {},
   "source": [
    "* Bipartite graph:\n",
    "   * Graph whose nodes can be divided into two disjoint sets U and V such that every link connects a node U to one in V; that is, U and V are independent sets.\n",
    "   * Examples: \n",
    "       * Authors to papers\n",
    "       * Actors to movies\n",
    "       * users to movies\n",
    "   "
   ]
  },
  {
   "cell_type": "markdown",
   "id": "7bd791a9-1389-4dc2-9ad0-406dee8246d6",
   "metadata": {},
   "source": [
    "## Representing graphs"
   ]
  },
  {
   "cell_type": "markdown",
   "id": "0b4dc06e-980d-4d82-bffa-02aba48aa0b6",
   "metadata": {},
   "source": [
    "#### Adjacency matrix"
   ]
  },
  {
   "cell_type": "markdown",
   "id": "8966571e-4b3b-493c-bdc6-b49f4ae276fa",
   "metadata": {
    "tags": []
   },
   "source": [
    "<img src=\"../images/adjacency_matrix.png\" width=600, height=300/>"
   ]
  },
  {
   "cell_type": "markdown",
   "id": "e051bcf5-f302-4bbd-a66f-092a8c028531",
   "metadata": {},
   "source": [
    "* Adjacency matrices are sparce\n",
    "    * Most real-world networks are sparse\n",
    "* Adjacency list: easier to work with if network is large and sparse"
   ]
  },
  {
   "cell_type": "markdown",
   "id": "1cc03550-7470-4fcc-8a84-4ecd6c05f6f8",
   "metadata": {
    "tags": []
   },
   "source": [
    "<img src=\"../images/adjacency_list.png\" width=600, height=300/>"
   ]
  },
  {
   "cell_type": "markdown",
   "id": "c92c14e5-fc0e-479f-b362-79763431bede",
   "metadata": {},
   "source": [
    "* Types of graphs:\n",
    "    * Unweighted \n",
    "    * Weighted\n",
    "    * Self edges (self loops)\n",
    "    * Multigraph: Multiple edges between a pair of nodes.\n",
    "* Connectivity:\n",
    "    * Connected (undirected) graph:\n",
    "        * Any two vertices can be joined by a path.\n",
    "        * A disconnected graph is made up by two or more connected components.\n",
    "    * Strongly connected directed graphs:\n",
    "        * Has a path from each node to every other node and vice versa.\n",
    "    * Weakly connected firected graph:\n",
    "        * is connected if we disregard the edge directions"
   ]
  },
  {
   "cell_type": "code",
   "execution_count": null,
   "id": "0859a1b7-8a91-4623-89e2-d134136fcca2",
   "metadata": {},
   "outputs": [],
   "source": []
  },
  {
   "cell_type": "code",
   "execution_count": null,
   "id": "321ca5f1-22bd-4204-89ec-357df1af1a15",
   "metadata": {},
   "outputs": [],
   "source": []
  },
  {
   "cell_type": "code",
   "execution_count": null,
   "id": "b2cc89d3-d3c1-4388-9aa1-eccb0bbf9ab5",
   "metadata": {},
   "outputs": [],
   "source": []
  },
  {
   "cell_type": "code",
   "execution_count": null,
   "id": "6722996f-f5e1-4e20-8abe-2d3d5f9d9f06",
   "metadata": {},
   "outputs": [],
   "source": []
  },
  {
   "cell_type": "code",
   "execution_count": null,
   "id": "26a3505d-df7c-4ccb-b454-dd1960c43b4c",
   "metadata": {},
   "outputs": [],
   "source": []
  }
 ],
 "metadata": {
  "kernelspec": {
   "display_name": "Python 3",
   "language": "python",
   "name": "python3"
  },
  "language_info": {
   "codemirror_mode": {
    "name": "ipython",
    "version": 3
   },
   "file_extension": ".py",
   "mimetype": "text/x-python",
   "name": "python",
   "nbconvert_exporter": "python",
   "pygments_lexer": "ipython3",
   "version": "3.7.9"
  }
 },
 "nbformat": 4,
 "nbformat_minor": 5
}
