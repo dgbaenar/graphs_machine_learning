{
 "cells": [
  {
   "cell_type": "markdown",
   "id": "e21d59b0-92a2-497f-957a-e9193ab8a9df",
   "metadata": {},
   "source": [
    "# 2.1 - Traditional feature-based Methods"
   ]
  },
  {
   "cell_type": "markdown",
   "id": "78767626-a40f-4d5a-899c-015b5d7fdb82",
   "metadata": {},
   "source": [
    "* Nodel level prediction.\n",
    "* Link level prediction.\n",
    "* Graph level prediction."
   ]
  },
  {
   "cell_type": "markdown",
   "id": "c54cc4fe-17c0-4ceb-a0d6-4d6595f9e4dc",
   "metadata": {},
   "source": [
    "### Goal\n",
    "* Make predictions for a set of objects\n",
    "\n",
    "### Design choices:\n",
    "* Features: d-dimensional vectors\n",
    "* Objects: Nodes, edges, sets of nodes, entire graphs\n",
    "* Node level features:\n",
    "    * Node degree: The number of edges (neighboring nodes) the node has.\n",
    "        * Counts the neighboring nodes without capturing their importance.\n",
    "    * Node centrality:\n",
    "        * Takes the node importance in a graph.\n",
    "        * Ways to model importance:\n",
    "            * Engienvector centrality.\n",
    "            * Betweenness centrality.\n",
    "            * Closeness centrality.\n",
    "            * And many others...\n",
    "    * Clustering coefficient.\n",
    "    * Graphglets"
   ]
  },
  {
   "cell_type": "markdown",
   "id": "50378a56-66dc-4668-8454-c98399983af0",
   "metadata": {},
   "source": [
    "## Eigenvector centrality:"
   ]
  },
  {
   "cell_type": "markdown",
   "id": "3e69f937-4378-411e-b024-22919780f29b",
   "metadata": {},
   "source": [
    "<img src=\"../images/eigen_vector_centrality.png\" width=600, height=300/>"
   ]
  },
  {
   "cell_type": "markdown",
   "id": "b8408e3a-4127-4f5d-80fd-a5fc312db28d",
   "metadata": {},
   "source": [
    "## Betweenness centrality"
   ]
  },
  {
   "cell_type": "markdown",
   "id": "a913935a-2407-4dcf-8887-474ac1d0c7d2",
   "metadata": {},
   "source": [
    "<img src=\"../images/betweeness_centrality.png\" width=600, height=300/>"
   ]
  },
  {
   "cell_type": "markdown",
   "id": "767becff-6cb6-49a2-b20a-81b89023f2b2",
   "metadata": {},
   "source": [
    "## Cloness centrality"
   ]
  },
  {
   "cell_type": "markdown",
   "id": "69decd81-ccc2-4939-a2e1-8983d6269697",
   "metadata": {},
   "source": [
    "<img src=\"../images/cloness_centrality.png\" width=600, height=300/>"
   ]
  },
  {
   "cell_type": "markdown",
   "id": "271397bb-e026-497d-94a0-37463d4a702e",
   "metadata": {},
   "source": [
    "* Eigenvector:\n",
    "    * A node is important if it is surrounded by important neighboring nodes.\n",
    "* Betweeness:\n",
    "    * A node is important if it lies on many shortest paths between other nodes.\n",
    "* Closeness:\n",
    "    * A node is important if has small shortest path lengths to all other nodes."
   ]
  },
  {
   "cell_type": "markdown",
   "id": "a1a87824-a35a-4d1a-b5b5-be20923528fe",
   "metadata": {},
   "source": [
    "# Clustering coefficient\n",
    "* Measures how connected one's neighbours are"
   ]
  },
  {
   "cell_type": "markdown",
   "id": "8fdc1c7c-f695-4fe2-bc23-ec9c1cc3377f",
   "metadata": {},
   "source": [
    "<img src=\"../images/clustering_coefficient.png\" width=600, height=300/>"
   ]
  },
  {
   "cell_type": "markdown",
   "id": "87acfe73-f5b6-4163-868f-ca9bc9184291",
   "metadata": {},
   "source": [
    "# Graphlets"
   ]
  },
  {
   "cell_type": "markdown",
   "id": "65c493da-d21b-40ec-a0aa-01091978de6c",
   "metadata": {},
   "source": [
    "<img src=\"../images/graphlets.png\" width=600, height=300/>"
   ]
  },
  {
   "cell_type": "markdown",
   "id": "eb872b61-9ebd-400f-bcc0-cdd7003941dd",
   "metadata": {},
   "source": [
    "<img src=\"../images/graphlet_degree_vector.png\" width=600, height=300/>"
   ]
  },
  {
   "cell_type": "markdown",
   "id": "e08ca475-e827-4c0b-9b8f-dac482373e6c",
   "metadata": {},
   "source": [
    "* Graphlets degree vector provides a measure of node's local network topology:\n",
    "    * Comparing vectors of two nodes provides a more detailed measure of local topological similarity than node degrees or clustering coefficient."
   ]
  },
  {
   "cell_type": "markdown",
   "id": "ff7a54cd-7c36-416d-a1e0-b7aacc1bb2d1",
   "metadata": {},
   "source": [
    "# 2.2 - Traditional feature-based Methods: Link"
   ]
  },
  {
   "cell_type": "markdown",
   "id": "f934ab90-a4f4-49ff-9884-078dfe7de898",
   "metadata": {},
   "source": [
    "### Task:\n",
    "\n",
    "* Predict new links based on existing links."
   ]
  },
  {
   "cell_type": "markdown",
   "id": "ea1ed974-4c60-427d-902e-014d4f6237e5",
   "metadata": {},
   "source": [
    "## Approaches"
   ]
  },
  {
   "cell_type": "markdown",
   "id": "298c72e1-4d1a-4566-bf13-8c2e25091bf9",
   "metadata": {},
   "source": [
    "<img src=\"../images/approaches_link.png\" width=600, height=300/>"
   ]
  },
  {
   "cell_type": "markdown",
   "id": "c18f0f1a-628e-49b7-a631-21e66f46afe0",
   "metadata": {},
   "source": [
    "* Link prediction via:\n",
    "    * Proximity\n",
    "    * How many neighbours do they hace in common"
   ]
  },
  {
   "cell_type": "markdown",
   "id": "5c2fb2fd-45bc-4e7e-93ea-289872fa9698",
   "metadata": {},
   "source": [
    "<img src=\"../images/local_neighbors.png\" width=600, height=300/>"
   ]
  },
  {
   "cell_type": "markdown",
   "id": "151dea55-9c71-4258-a288-d40d94ee20bc",
   "metadata": {},
   "source": [
    "* Adamic-Adar index:\n",
    "    * We count how many neighbors two nodes have in common, but the importance of a given neighbor decreases with its degree.\n",
    "    * If we have a lot of neighbors in common that have low degreel, that is better that if you have a lot of highly connected celebrities as a set of common neighbors"
   ]
  },
  {
   "cell_type": "markdown",
   "id": "ab5f877d-8d89-4f58-a3a2-a3752e919624",
   "metadata": {},
   "source": [
    "## Limitations"
   ]
  },
  {
   "cell_type": "markdown",
   "id": "ccfaf215-6f4d-4586-be5b-3f3000c9613a",
   "metadata": {},
   "source": [
    "<img src=\"../images/limitations_neighbors.png\" width=600, height=300/>"
   ]
  },
  {
   "cell_type": "markdown",
   "id": "78ac1a88-c367-48e9-9077-56ab23a62cec",
   "metadata": {},
   "source": [
    "## Solution:\n",
    "\n",
    "* Katz index: count the number of paths of all lenghts between a given pair of nodes.\n",
    "    * Using adjacency matrix."
   ]
  },
  {
   "cell_type": "markdown",
   "id": "f6a64487-7ee8-4642-b9d3-37e7528a7fcb",
   "metadata": {},
   "source": [
    "<img src=\"../images/paths_with_adjacency.png\" width=600, height=300/>"
   ]
  },
  {
   "cell_type": "markdown",
   "id": "9f53508a-79e6-47d3-87f9-e7320da1a4e5",
   "metadata": {},
   "source": [
    "<img src=\"../images/adjacency_matrix_neighors.png\" width=600, height=300/>"
   ]
  },
  {
   "cell_type": "markdown",
   "id": "6142d88e-3b85-40a9-bb14-a5acfb6a0532",
   "metadata": {},
   "source": [
    "<img src=\"../images/katz_index.png\" width=600, height=300/>"
   ]
  },
  {
   "cell_type": "markdown",
   "id": "d8416102-9788-4603-99c3-d83d371d76d8",
   "metadata": {},
   "source": [
    "* B is a discount factor that gives lower importances of paths of longer lengths"
   ]
  },
  {
   "cell_type": "markdown",
   "id": "19d23f89-cdf5-459d-901f-9829389f6fed",
   "metadata": {},
   "source": [
    "<img src=\"../images/summary22.png\" width=600, height=300/>"
   ]
  },
  {
   "cell_type": "markdown",
   "id": "4f89c2c1-2b26-45e2-aa4b-a9616fa866f5",
   "metadata": {},
   "source": [
    "# 2.3 - Traditional feature-based Methods: Graph"
   ]
  },
  {
   "cell_type": "markdown",
   "id": "23eecca5-d335-4946-9cab-29304dca5ce1",
   "metadata": {},
   "source": [
    "* Graph kernels: Measure similarity between two graph.\n",
    "    Goal: Design a graph feature vector phi. (bag of words for a graph)\n",
    "        * Bag of nodes degrees."
   ]
  },
  {
   "cell_type": "markdown",
   "id": "636a4f86-0e65-4f2b-b887-6bc978618faa",
   "metadata": {},
   "source": [
    "<img src=\"../images/graph_node_degree.png\" width=600, height=300/>"
   ]
  },
  {
   "cell_type": "markdown",
   "id": "4367abba-42e1-4dca-aecd-0a5afc79f3eb",
   "metadata": {},
   "source": [
    "* Graphlets kernels do not need to have edges between them."
   ]
  },
  {
   "cell_type": "markdown",
   "id": "cdb004a7-fe1e-43ee-814b-fa4ba0ad8179",
   "metadata": {},
   "source": [
    "<img src=\"../images/graphlet_kernels.png\" width=600, height=300/>"
   ]
  },
  {
   "cell_type": "markdown",
   "id": "ea45feea-0a05-4ef2-9fd8-2f20fdde5e84",
   "metadata": {},
   "source": [
    "<img src=\"../images/graphlet_kernel_2.png\" width=600, height=300/>"
   ]
  },
  {
   "cell_type": "markdown",
   "id": "c063c059-cd7c-40ae-884f-032f16367bb3",
   "metadata": {},
   "source": [
    "* Hg = Count of individual graphlets divided by the total number of graphlets that appear in the graph "
   ]
  },
  {
   "cell_type": "markdown",
   "id": "d40ec846-c19e-4ab9-b3d1-308872ec0664",
   "metadata": {},
   "source": [
    "### Can we design a more efficient gragph kernel?"
   ]
  },
  {
   "cell_type": "markdown",
   "id": "8ef13cce-784f-4f3a-8223-2739a32b5453",
   "metadata": {},
   "source": [
    "<img src=\"../images/weisfeiler-lehman_kernel.png\" width=600, height=300/>"
   ]
  },
  {
   "cell_type": "code",
   "execution_count": null,
   "id": "cd021ae4-6b9d-4004-a402-50480198a12b",
   "metadata": {},
   "outputs": [],
   "source": []
  },
  {
   "cell_type": "code",
   "execution_count": null,
   "id": "2256f5ed-9546-499d-9fa5-6c69f0761035",
   "metadata": {},
   "outputs": [],
   "source": []
  },
  {
   "cell_type": "code",
   "execution_count": null,
   "id": "949b6eaf-ced1-41f2-a796-1cb3c2acf134",
   "metadata": {},
   "outputs": [],
   "source": []
  },
  {
   "cell_type": "code",
   "execution_count": null,
   "id": "dcad93c7-5a75-4989-858e-71259af54954",
   "metadata": {},
   "outputs": [],
   "source": []
  },
  {
   "cell_type": "code",
   "execution_count": null,
   "id": "ec46cd4d-e996-45a0-9f2f-21ec52e16b35",
   "metadata": {},
   "outputs": [],
   "source": []
  },
  {
   "cell_type": "code",
   "execution_count": null,
   "id": "2f5d7a1f-034f-4e33-9bc8-b3eeb51da1f8",
   "metadata": {},
   "outputs": [],
   "source": []
  }
 ],
 "metadata": {
  "kernelspec": {
   "display_name": "Python 3",
   "language": "python",
   "name": "python3"
  },
  "language_info": {
   "codemirror_mode": {
    "name": "ipython",
    "version": 3
   },
   "file_extension": ".py",
   "mimetype": "text/x-python",
   "name": "python",
   "nbconvert_exporter": "python",
   "pygments_lexer": "ipython3",
   "version": "3.7.9"
  }
 },
 "nbformat": 4,
 "nbformat_minor": 5
}
