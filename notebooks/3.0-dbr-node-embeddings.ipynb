{
 "cells": [
  {
   "cell_type": "markdown",
   "id": "548a955b-cad5-4240-909d-d0144ac5fd12",
   "metadata": {},
   "source": [
    "# 3.1 - Node Embeddings"
   ]
  },
  {
   "cell_type": "markdown",
   "id": "30f015d5-d0f3-4c81-bcf8-c28a433474b5",
   "metadata": {},
   "source": [
    "* Each node is assigned a unique embedding vector."
   ]
  },
  {
   "cell_type": "code",
   "execution_count": null,
   "id": "57a6555e-3ce0-46d9-9ce5-9ffdb687ffbf",
   "metadata": {},
   "outputs": [],
   "source": []
  },
  {
   "cell_type": "code",
   "execution_count": null,
   "id": "50f186ea-5ce1-4b73-aca0-b77c41983f79",
   "metadata": {},
   "outputs": [],
   "source": []
  },
  {
   "cell_type": "code",
   "execution_count": null,
   "id": "a246239d-0fc8-4f03-9c4a-c733703af82c",
   "metadata": {},
   "outputs": [],
   "source": []
  },
  {
   "cell_type": "code",
   "execution_count": null,
   "id": "212282de-a0f2-44b7-bba7-6eeae6308681",
   "metadata": {},
   "outputs": [],
   "source": []
  }
 ],
 "metadata": {
  "kernelspec": {
   "display_name": "Python 3",
   "language": "python",
   "name": "python3"
  },
  "language_info": {
   "codemirror_mode": {
    "name": "ipython",
    "version": 3
   },
   "file_extension": ".py",
   "mimetype": "text/x-python",
   "name": "python",
   "nbconvert_exporter": "python",
   "pygments_lexer": "ipython3",
   "version": "3.7.9"
  }
 },
 "nbformat": 4,
 "nbformat_minor": 5
}
